{
 "cells": [
  {
   "cell_type": "markdown",
   "metadata": {},
   "source": [
    "# Hackerrank Solutions (Introduction, Python)\n",
    "\n",
    "Solutions for the Introduction subdomain of Python on Hackerrank"
   ]
  },
  {
   "cell_type": "markdown",
   "metadata": {},
   "source": [
    "## 1. Print Hello, World! on screen."
   ]
  },
  {
   "cell_type": "code",
   "execution_count": 1,
   "metadata": {},
   "outputs": [
    {
     "name": "stdout",
     "output_type": "stream",
     "text": [
      "Hello, World!\n"
     ]
    }
   ],
   "source": [
    "#double quotes\n",
    "print(\"Hello, World!\")"
   ]
  },
  {
   "cell_type": "code",
   "execution_count": 2,
   "metadata": {},
   "outputs": [
    {
     "name": "stdout",
     "output_type": "stream",
     "text": [
      "Hello, World!\n"
     ]
    }
   ],
   "source": [
    "#single quotes\n",
    "print('Hello, World!')"
   ]
  },
  {
   "cell_type": "code",
   "execution_count": 3,
   "metadata": {},
   "outputs": [
    {
     "name": "stdout",
     "output_type": "stream",
     "text": [
      "Hello, World!\n"
     ]
    }
   ],
   "source": [
    "#using a variable\n",
    "str = \"Hello, World!\"\n",
    "print(str)"
   ]
  },
  {
   "cell_type": "markdown",
   "metadata": {},
   "source": [
    "## 2. If-else loop\n",
    "\n",
    "Given an integer,n, perform the following conditional actions:\n",
    "\n",
    "- If n is odd, print Weird\n",
    "- If n is even and in the inclusive range of 2 to 5, print Not Weird\n",
    "- If n is even and in the inclusive range of 6 to 20, print Weird\n",
    "- If n is even and greater than 20, print Not Weird\n",
    "- Also, n should be between 1 and 100 (inclusive)."
   ]
  },
  {
   "cell_type": "code",
   "execution_count": 4,
   "metadata": {},
   "outputs": [
    {
     "name": "stdout",
     "output_type": "stream",
     "text": [
      "4\n",
      "Not Weird\n"
     ]
    }
   ],
   "source": [
    "#In order to take an input from the user, input() is used.\n",
    "#But in Python, we even have to specify the data type.\n",
    "#strip() is used to remove spaces at the beginning or end of the input.\n",
    "n = int(input().strip())\n",
    "#FOR CODERS IN OTHER LANGUAGES: && is simply 'and' in Python.\n",
    "if(n>=1 and n<=100):\n",
    "    if (n%2==1):\n",
    "        print('Weird')\n",
    "    elif (n%2==0):\n",
    "        if(n>=2 and n<=5):\n",
    "            print('Not Weird')\n",
    "        elif(n>=6 and n<=20):\n",
    "            print('Weird')\n",
    "        elif(n>20):\n",
    "            print('Not Weird')\n",
    "else:\n",
    "    print(\"Invalid input\")"
   ]
  },
  {
   "cell_type": "markdown",
   "metadata": {},
   "source": [
    "## 3. Arithmetic Operators\n",
    "\n",
    "- Take 2 integers a and b as inputs.\n",
    "- The first line contains the sum of the two numbers.\n",
    "- The second line contains the difference of the two numbers (first - second).\n",
    "- The third line contains the product of the two numbers."
   ]
  },
  {
   "cell_type": "code",
   "execution_count": 5,
   "metadata": {},
   "outputs": [
    {
     "name": "stdout",
     "output_type": "stream",
     "text": [
      "5\n",
      "4\n",
      "9\n",
      "1\n",
      "20\n"
     ]
    }
   ],
   "source": [
    "a = int(input())\n",
    "b = int(input())\n",
    "print(a+b)\n",
    "print(a-b)\n",
    "print(a*b)"
   ]
  },
  {
   "cell_type": "markdown",
   "metadata": {},
   "source": [
    "## 4. Division\n",
    "- The first line should contain the result of integer division. \n",
    "- The second line should contain the result of float division."
   ]
  },
  {
   "cell_type": "code",
   "execution_count": 6,
   "metadata": {},
   "outputs": [
    {
     "name": "stdout",
     "output_type": "stream",
     "text": [
      "12\n",
      "4\n",
      "3\n",
      "3.0\n"
     ]
    }
   ],
   "source": [
    "a = int(input())\n",
    "b = int(input())\n",
    "#To get the result as an integer\n",
    "print(a//b)\n",
    "#To get the result as a float\n",
    "print(a/b)"
   ]
  },
  {
   "cell_type": "markdown",
   "metadata": {},
   "source": [
    "## 5. Loop\n",
    "- For all non-negative integers i<n, print i^2.\n",
    "\n",
    "Eg. n=3\n",
    "\n",
    "Numbers less than n = 0,1,2\n",
    "\n",
    "Print - 0, 1, 4 (vertically)"
   ]
  },
  {
   "cell_type": "code",
   "execution_count": 7,
   "metadata": {},
   "outputs": [
    {
     "name": "stdout",
     "output_type": "stream",
     "text": [
      "4\n",
      "0\n",
      "1\n",
      "4\n",
      "9\n"
     ]
    }
   ],
   "source": [
    "n = int(input())\n",
    "i = 0\n",
    "if(n>=0):\n",
    "    while(i!=n):\n",
    "        print(i**2)\n",
    "        i=i+1\n",
    "else:\n",
    "    print('Negative number')"
   ]
  },
  {
   "cell_type": "markdown",
   "metadata": {},
   "source": [
    "## 6. Function\n",
    "\n",
    "- Given a year, determine whether it is a leap year. If it is a leap year, return the Boolean True, otherwise return False.\n",
    "- In the Gregorian calendar, three conditions are used to identify leap years:\n",
    "1. The year can be evenly divided by 4, is a leap year, unless:\n",
    "2. The year can be evenly divided by 100, it is NOT a leap year, unless:\n",
    "3. The year is also evenly divisible by 400. Then it is a leap year."
   ]
  },
  {
   "cell_type": "code",
   "execution_count": 8,
   "metadata": {},
   "outputs": [
    {
     "name": "stdout",
     "output_type": "stream",
     "text": [
      "2022\n",
      "False\n"
     ]
    }
   ],
   "source": [
    "def is_leap(year):\n",
    "    leap = False\n",
    "    if(year%4==0):\n",
    "        if(year%100!=0):\n",
    "            leap = True\n",
    "        elif(year%100==0):\n",
    "            if(year%400==0):\n",
    "                leap = True    \n",
    "    return leap\n",
    "\n",
    "year = int(input())\n",
    "print(is_leap(year))"
   ]
  },
  {
   "cell_type": "markdown",
   "metadata": {},
   "source": [
    "# 7. Print function\n",
    "\n",
    "- The included code stub will read an integer, n, from STDIN. Without using any string methods, try to print the following:\n",
    "- 1,2,3...n \n",
    "- Note that \"...\" represents the consecutive values in between.\n",
    "- Example for n = 5, print the string: 12345"
   ]
  },
  {
   "cell_type": "code",
   "execution_count": 9,
   "metadata": {},
   "outputs": [
    {
     "name": "stdout",
     "output_type": "stream",
     "text": [
      "4\n",
      "1234"
     ]
    }
   ],
   "source": [
    "n = int(input())\n",
    "#for loops in python use the function range()\n",
    "for i in range(n):\n",
    "    print(i+1, end='')"
   ]
  }
 ],
 "metadata": {
  "kernelspec": {
   "display_name": "Python 3",
   "language": "python",
   "name": "python3"
  },
  "language_info": {
   "codemirror_mode": {
    "name": "ipython",
    "version": 3
   },
   "file_extension": ".py",
   "mimetype": "text/x-python",
   "name": "python",
   "nbconvert_exporter": "python",
   "pygments_lexer": "ipython3",
   "version": "3.8.5"
  }
 },
 "nbformat": 4,
 "nbformat_minor": 4
}
